{
 "cells": [
  {
   "cell_type": "code",
   "execution_count": 1,
   "id": "5df4b4ec",
   "metadata": {},
   "outputs": [],
   "source": [
    "import os\n",
    "import smtplib\n",
    "import email.message\n",
    "import pandas as pd\n",
    "import datetime as dt\n",
    "from dotenv import load_dotenv"
   ]
  },
  {
   "cell_type": "code",
   "execution_count": 2,
   "id": "5f4b6a0e",
   "metadata": {},
   "outputs": [],
   "source": [
    "load_dotenv(override=True)\n",
    "mail = os.getenv('MAIL')\n",
    "password = os.getenv('PASSWORD')"
   ]
  },
  {
   "cell_type": "code",
   "execution_count": 3,
   "id": "dc890d2c",
   "metadata": {},
   "outputs": [],
   "source": [
    "df = pd.read_excel('data.xlsx')"
   ]
  },
  {
   "cell_type": "code",
   "execution_count": 4,
   "id": "a3a67139",
   "metadata": {
    "scrolled": true
   },
   "outputs": [],
   "source": [
    "df['Previsão Pagamento'] = pd.to_datetime(df['Previsão Pagamento'], format='%d/%m/%y')"
   ]
  },
  {
   "cell_type": "code",
   "execution_count": 5,
   "id": "05c2d7bc",
   "metadata": {},
   "outputs": [],
   "source": [
    "open_payment = df.loc[df['Status Pagamento'] == 'Em aberto']"
   ]
  },
  {
   "cell_type": "code",
   "execution_count": 6,
   "id": "1162b1eb",
   "metadata": {},
   "outputs": [],
   "source": [
    "today = dt.datetime.now()\n",
    "late_payment = open_payment.loc[open_payment['Previsão Pagamento'] < today]"
   ]
  },
  {
   "cell_type": "code",
   "execution_count": 7,
   "id": "8f0d10c0",
   "metadata": {},
   "outputs": [],
   "source": [
    "clients_with_late_payment = late_payment[['ID', 'Nome', 'Valor', 'Previsão Pagamento', 'Email', 'Telefone']].values.tolist()"
   ]
  },
  {
   "cell_type": "code",
   "execution_count": 8,
   "id": "06b72efc",
   "metadata": {},
   "outputs": [],
   "source": [
    "def send_mail(subject, mail_from, mail_to, mail_body):\n",
    "    message = email.message.Message()\n",
    "    message.add_header('Content-Type', 'text/html')\n",
    "    message.set_payload(mail_body)\n",
    "    \n",
    "    message['Subject'] = subject\n",
    "    message['From'] = mail_from\n",
    "    message['To'] = mail_to\n",
    "    \n",
    "    smtp = smtplib.SMTP('smtp.gmail.com: 587')\n",
    "    smtp.starttls()\n",
    "    smtp.login(message['From'], password)\n",
    "    smtp.sendmail(message['From'], [message['To']], message.as_string().encode('utf-8'))\n",
    "    print('email enviado')"
   ]
  },
  {
   "cell_type": "code",
   "execution_count": 9,
   "id": "714f3a1e",
   "metadata": {},
   "outputs": [],
   "source": [
    "def create_mail_message(purchase_id, client_name, purchase_value, due_date):\n",
    "    mensagem = f'''\n",
    "        <p>Prezado(a) {client_name},</p>\n",
    "        <p>Identificamos um atraso no pagamento da sua compra no valor de R$ {purchase_value:.2f} com o ID #{purchase_id}, cujo vencimento era {due_date}. Por favor, regularize essa situação o quanto antes.</p>\n",
    "        <p>Para mais detalhes ou para providenciar o pagamento, entre em contato conosco pelo e-mail #EMAIL_EMPRESA ou pelo telefone #TELEFONE_EMPRESA.</p>\n",
    "        <p>Atenciosamente,</p>\n",
    "        <p>#NOME_EMPRESA</p>\n",
    "    '''\n",
    "    return mensagem"
   ]
  },
  {
   "cell_type": "code",
   "execution_count": 10,
   "id": "5f0fc7b2",
   "metadata": {},
   "outputs": [
    {
     "name": "stdout",
     "output_type": "stream",
     "text": [
      "email enviado\n",
      "email enviado\n",
      "email enviado\n",
      "email enviado\n",
      "email enviado\n",
      "email enviado\n",
      "email enviado\n",
      "email enviado\n",
      "email enviado\n",
      "email enviado\n",
      "email enviado\n"
     ]
    }
   ],
   "source": [
    "for client in clients_with_late_payment:\n",
    "    purchase_id = client[0]\n",
    "    client_name = client[1]\n",
    "    purchase_value = client[2]\n",
    "    due_date = client[3].strftime('%d/%m/%Y')\n",
    "    client_mail = client[4]\n",
    "\n",
    "    subject = f'Urgente: Pagamento em Atraso - ID da Compra #{purchase_id}'\n",
    "    body = create_mail_message(purchase_id, client_name, purchase_value, due_date)\n",
    "    send_mail(subject, mail, mail, body)"
   ]
  }
 ],
 "metadata": {
  "kernelspec": {
   "display_name": "Python 3 (ipykernel)",
   "language": "python",
   "name": "python3"
  },
  "language_info": {
   "codemirror_mode": {
    "name": "ipython",
    "version": 3
   },
   "file_extension": ".py",
   "mimetype": "text/x-python",
   "name": "python",
   "nbconvert_exporter": "python",
   "pygments_lexer": "ipython3",
   "version": "3.11.5"
  }
 },
 "nbformat": 4,
 "nbformat_minor": 5
}
